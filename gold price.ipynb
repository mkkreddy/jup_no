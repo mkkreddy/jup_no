{
 "cells": [
  {
   "cell_type": "code",
   "execution_count": 1,
   "metadata": {},
   "outputs": [
    {
     "name": "stdout",
     "output_type": "stream",
     "text": [
      "['gld_price_data.csv']\n"
     ]
    }
   ],
   "source": [
    "import pandas as pd\n",
    "import numpy as np\n",
    "\n",
    "import matplotlib.pyplot as plt\n",
    "\n",
    "import os\n",
    "\n",
    "print (os.listdir ('./gold'))"
   ]
  },
  {
   "cell_type": "code",
   "execution_count": 3,
   "metadata": {},
   "outputs": [],
   "source": [
    "df = pd.read_csv(\"./gold/gld_price_data.csv\")"
   ]
  },
  {
   "cell_type": "code",
   "execution_count": 4,
   "metadata": {},
   "outputs": [
    {
     "data": {
      "text/html": [
       "<div>\n",
       "<style scoped>\n",
       "    .dataframe tbody tr th:only-of-type {\n",
       "        vertical-align: middle;\n",
       "    }\n",
       "\n",
       "    .dataframe tbody tr th {\n",
       "        vertical-align: top;\n",
       "    }\n",
       "\n",
       "    .dataframe thead th {\n",
       "        text-align: right;\n",
       "    }\n",
       "</style>\n",
       "<table border=\"1\" class=\"dataframe\">\n",
       "  <thead>\n",
       "    <tr style=\"text-align: right;\">\n",
       "      <th></th>\n",
       "      <th>Date</th>\n",
       "      <th>SPX</th>\n",
       "      <th>GLD</th>\n",
       "      <th>USO</th>\n",
       "      <th>SLV</th>\n",
       "      <th>EUR/USD</th>\n",
       "    </tr>\n",
       "  </thead>\n",
       "  <tbody>\n",
       "    <tr>\n",
       "      <th>0</th>\n",
       "      <td>1/2/2008</td>\n",
       "      <td>1447.160034</td>\n",
       "      <td>84.860001</td>\n",
       "      <td>78.470001</td>\n",
       "      <td>15.180</td>\n",
       "      <td>1.471692</td>\n",
       "    </tr>\n",
       "    <tr>\n",
       "      <th>1</th>\n",
       "      <td>1/3/2008</td>\n",
       "      <td>1447.160034</td>\n",
       "      <td>85.570000</td>\n",
       "      <td>78.370003</td>\n",
       "      <td>15.285</td>\n",
       "      <td>1.474491</td>\n",
       "    </tr>\n",
       "    <tr>\n",
       "      <th>2</th>\n",
       "      <td>1/4/2008</td>\n",
       "      <td>1411.630005</td>\n",
       "      <td>85.129997</td>\n",
       "      <td>77.309998</td>\n",
       "      <td>15.167</td>\n",
       "      <td>1.475492</td>\n",
       "    </tr>\n",
       "    <tr>\n",
       "      <th>3</th>\n",
       "      <td>1/7/2008</td>\n",
       "      <td>1416.180054</td>\n",
       "      <td>84.769997</td>\n",
       "      <td>75.500000</td>\n",
       "      <td>15.053</td>\n",
       "      <td>1.468299</td>\n",
       "    </tr>\n",
       "    <tr>\n",
       "      <th>4</th>\n",
       "      <td>1/8/2008</td>\n",
       "      <td>1390.189941</td>\n",
       "      <td>86.779999</td>\n",
       "      <td>76.059998</td>\n",
       "      <td>15.590</td>\n",
       "      <td>1.557099</td>\n",
       "    </tr>\n",
       "  </tbody>\n",
       "</table>\n",
       "</div>"
      ],
      "text/plain": [
       "       Date          SPX        GLD        USO     SLV   EUR/USD\n",
       "0  1/2/2008  1447.160034  84.860001  78.470001  15.180  1.471692\n",
       "1  1/3/2008  1447.160034  85.570000  78.370003  15.285  1.474491\n",
       "2  1/4/2008  1411.630005  85.129997  77.309998  15.167  1.475492\n",
       "3  1/7/2008  1416.180054  84.769997  75.500000  15.053  1.468299\n",
       "4  1/8/2008  1390.189941  86.779999  76.059998  15.590  1.557099"
      ]
     },
     "execution_count": 4,
     "metadata": {},
     "output_type": "execute_result"
    }
   ],
   "source": [
    "df.head()"
   ]
  },
  {
   "cell_type": "code",
   "execution_count": 5,
   "metadata": {},
   "outputs": [
    {
     "name": "stdout",
     "output_type": "stream",
     "text": [
      "<class 'pandas.core.frame.DataFrame'>\n",
      "RangeIndex: 2290 entries, 0 to 2289\n",
      "Data columns (total 6 columns):\n",
      "Date       2290 non-null object\n",
      "SPX        2290 non-null float64\n",
      "GLD        2290 non-null float64\n",
      "USO        2290 non-null float64\n",
      "SLV        2290 non-null float64\n",
      "EUR/USD    2290 non-null float64\n",
      "dtypes: float64(5), object(1)\n",
      "memory usage: 107.5+ KB\n"
     ]
    }
   ],
   "source": [
    "df.info()"
   ]
  },
  {
   "cell_type": "code",
   "execution_count": 6,
   "metadata": {},
   "outputs": [
    {
     "data": {
      "text/html": [
       "<div>\n",
       "<style scoped>\n",
       "    .dataframe tbody tr th:only-of-type {\n",
       "        vertical-align: middle;\n",
       "    }\n",
       "\n",
       "    .dataframe tbody tr th {\n",
       "        vertical-align: top;\n",
       "    }\n",
       "\n",
       "    .dataframe thead th {\n",
       "        text-align: right;\n",
       "    }\n",
       "</style>\n",
       "<table border=\"1\" class=\"dataframe\">\n",
       "  <thead>\n",
       "    <tr style=\"text-align: right;\">\n",
       "      <th></th>\n",
       "      <th>SPX</th>\n",
       "      <th>GLD</th>\n",
       "      <th>USO</th>\n",
       "      <th>SLV</th>\n",
       "      <th>EUR/USD</th>\n",
       "    </tr>\n",
       "  </thead>\n",
       "  <tbody>\n",
       "    <tr>\n",
       "      <th>count</th>\n",
       "      <td>2290.000000</td>\n",
       "      <td>2290.000000</td>\n",
       "      <td>2290.000000</td>\n",
       "      <td>2290.000000</td>\n",
       "      <td>2290.000000</td>\n",
       "    </tr>\n",
       "    <tr>\n",
       "      <th>mean</th>\n",
       "      <td>1654.315776</td>\n",
       "      <td>122.732875</td>\n",
       "      <td>31.842221</td>\n",
       "      <td>20.084997</td>\n",
       "      <td>1.283653</td>\n",
       "    </tr>\n",
       "    <tr>\n",
       "      <th>std</th>\n",
       "      <td>519.111540</td>\n",
       "      <td>23.283346</td>\n",
       "      <td>19.523517</td>\n",
       "      <td>7.092566</td>\n",
       "      <td>0.131547</td>\n",
       "    </tr>\n",
       "    <tr>\n",
       "      <th>min</th>\n",
       "      <td>676.530029</td>\n",
       "      <td>70.000000</td>\n",
       "      <td>7.960000</td>\n",
       "      <td>8.850000</td>\n",
       "      <td>1.039047</td>\n",
       "    </tr>\n",
       "    <tr>\n",
       "      <th>25%</th>\n",
       "      <td>1239.874969</td>\n",
       "      <td>109.725000</td>\n",
       "      <td>14.380000</td>\n",
       "      <td>15.570000</td>\n",
       "      <td>1.171313</td>\n",
       "    </tr>\n",
       "    <tr>\n",
       "      <th>50%</th>\n",
       "      <td>1551.434998</td>\n",
       "      <td>120.580002</td>\n",
       "      <td>33.869999</td>\n",
       "      <td>17.268500</td>\n",
       "      <td>1.303296</td>\n",
       "    </tr>\n",
       "    <tr>\n",
       "      <th>75%</th>\n",
       "      <td>2073.010070</td>\n",
       "      <td>132.840004</td>\n",
       "      <td>37.827501</td>\n",
       "      <td>22.882499</td>\n",
       "      <td>1.369971</td>\n",
       "    </tr>\n",
       "    <tr>\n",
       "      <th>max</th>\n",
       "      <td>2872.870117</td>\n",
       "      <td>184.589996</td>\n",
       "      <td>117.480003</td>\n",
       "      <td>47.259998</td>\n",
       "      <td>1.598798</td>\n",
       "    </tr>\n",
       "  </tbody>\n",
       "</table>\n",
       "</div>"
      ],
      "text/plain": [
       "               SPX          GLD          USO          SLV      EUR/USD\n",
       "count  2290.000000  2290.000000  2290.000000  2290.000000  2290.000000\n",
       "mean   1654.315776   122.732875    31.842221    20.084997     1.283653\n",
       "std     519.111540    23.283346    19.523517     7.092566     0.131547\n",
       "min     676.530029    70.000000     7.960000     8.850000     1.039047\n",
       "25%    1239.874969   109.725000    14.380000    15.570000     1.171313\n",
       "50%    1551.434998   120.580002    33.869999    17.268500     1.303296\n",
       "75%    2073.010070   132.840004    37.827501    22.882499     1.369971\n",
       "max    2872.870117   184.589996   117.480003    47.259998     1.598798"
      ]
     },
     "execution_count": 6,
     "metadata": {},
     "output_type": "execute_result"
    }
   ],
   "source": [
    "df.describe()"
   ]
  },
  {
   "cell_type": "code",
   "execution_count": 7,
   "metadata": {},
   "outputs": [
    {
     "data": {
      "text/plain": [
       "Text(0.5, 1.05, 'Correlation of df Features')"
      ]
     },
     "execution_count": 7,
     "metadata": {},
     "output_type": "execute_result"
    },
    {
     "data": {
      "image/png": "[encoded data removed]",
      "text/plain": [
       "<Figure size 432x360 with 2 Axes>"
      ]
     },
     "metadata": {
      "needs_background": "light"
     },
     "output_type": "display_data"
    }
   ],
   "source": [
    "import seaborn as sns\n",
    "corr = df.corr()\n",
    "\n"
   ]
  },
  {
   "cell_type": "code",
   "execution_count": 13,
   "metadata": {},
   "outputs": [
    {
     "data": {
      "text/plain": [
       "Text(0.5, 1.05, 'Correlation of df Features')"
      ]
     },
     "execution_count": 13,
     "metadata": {},
     "output_type": "execute_result"
    },
    {
     "data": {
      "image/png": "[encoded data removed]",
      "text/plain": [
       "<Figure size 432x360 with 2 Axes>"
      ]
     },
     "metadata": {
      "needs_background": "light"
     },
     "output_type": "display_data"
    }
   ],
   "source": [
    "plt.figure(figsize = (6,5))\n",
    "\n",
    "sns.heatmap(corr,\n",
    "            xticklabels=corr.columns.values,\n",
    "            yticklabels=corr.columns.values,\n",
    "            annot=True,fmt='.2f',linewidths=1.50)\n",
    "\n",
    "plt.title('Correlation of df Features', y = 1.05, size=15)"
   ]
  },
  {
   "cell_type": "code",
   "execution_count": 14,
   "metadata": {},
   "outputs": [
    {
     "name": "stdout",
     "output_type": "stream",
     "text": [
      "GLD        1.000000\n",
      "SLV        0.866632\n",
      "SPX        0.049345\n",
      "EUR/USD   -0.024375\n",
      "USO       -0.186360\n",
      "Name: GLD, dtype: float64 \n",
      "\n"
     ]
    }
   ],
   "source": [
    "print (corr['GLD'].sort_values(ascending=False), '\\n')"
   ]
  },
  {
   "cell_type": "code",
   "execution_count": 17,
   "metadata": {},
   "outputs": [],
   "source": [
    "X = df.drop(['GLD'],axis=1)\n",
    "Y = df['GLD']"
   ]
  },
  {
   "cell_type": "code",
   "execution_count": 23,
   "metadata": {},
   "outputs": [
    {
     "data": {
      "text/html": [
       "<div>\n",
       "<style scoped>\n",
       "    .dataframe tbody tr th:only-of-type {\n",
       "        vertical-align: middle;\n",
       "    }\n",
       "\n",
       "    .dataframe tbody tr th {\n",
       "        vertical-align: top;\n",
       "    }\n",
       "\n",
       "    .dataframe thead th {\n",
       "        text-align: right;\n",
       "    }\n",
       "</style>\n",
       "<table border=\"1\" class=\"dataframe\">\n",
       "  <thead>\n",
       "    <tr style=\"text-align: right;\">\n",
       "      <th></th>\n",
       "      <th>SPX</th>\n",
       "      <th>USO</th>\n",
       "      <th>SLV</th>\n",
       "      <th>EUR/USD</th>\n",
       "    </tr>\n",
       "  </thead>\n",
       "  <tbody>\n",
       "    <tr>\n",
       "      <th>0</th>\n",
       "      <td>1447.160034</td>\n",
       "      <td>78.470001</td>\n",
       "      <td>15.180</td>\n",
       "      <td>1.471692</td>\n",
       "    </tr>\n",
       "    <tr>\n",
       "      <th>1</th>\n",
       "      <td>1447.160034</td>\n",
       "      <td>78.370003</td>\n",
       "      <td>15.285</td>\n",
       "      <td>1.474491</td>\n",
       "    </tr>\n",
       "    <tr>\n",
       "      <th>2</th>\n",
       "      <td>1411.630005</td>\n",
       "      <td>77.309998</td>\n",
       "      <td>15.167</td>\n",
       "      <td>1.475492</td>\n",
       "    </tr>\n",
       "    <tr>\n",
       "      <th>3</th>\n",
       "      <td>1416.180054</td>\n",
       "      <td>75.500000</td>\n",
       "      <td>15.053</td>\n",
       "      <td>1.468299</td>\n",
       "    </tr>\n",
       "    <tr>\n",
       "      <th>4</th>\n",
       "      <td>1390.189941</td>\n",
       "      <td>76.059998</td>\n",
       "      <td>15.590</td>\n",
       "      <td>1.557099</td>\n",
       "    </tr>\n",
       "  </tbody>\n",
       "</table>\n",
       "</div>"
      ],
      "text/plain": [
       "           SPX        USO     SLV   EUR/USD\n",
       "0  1447.160034  78.470001  15.180  1.471692\n",
       "1  1447.160034  78.370003  15.285  1.474491\n",
       "2  1411.630005  77.309998  15.167  1.475492\n",
       "3  1416.180054  75.500000  15.053  1.468299\n",
       "4  1390.189941  76.059998  15.590  1.557099"
      ]
     },
     "execution_count": 23,
     "metadata": {},
     "output_type": "execute_result"
    }
   ],
   "source": [
    "X=X.drop('Date',axis=1)\n",
    "X.head()"
   ]
  },
  {
   "cell_type": "code",
   "execution_count": 22,
   "metadata": {},
   "outputs": [
    {
     "data": {
      "text/plain": [
       "0    84.860001\n",
       "1    85.570000\n",
       "2    85.129997\n",
       "3    84.769997\n",
       "4    86.779999\n",
       "Name: GLD, dtype: float64"
      ]
     },
     "execution_count": 22,
     "metadata": {},
     "output_type": "execute_result"
    }
   ],
   "source": [
    "Y.head()"
   ]
  },
  {
   "cell_type": "code",
   "execution_count": 28,
   "metadata": {},
   "outputs": [],
   "source": [
    "from sklearn.model_selection import train_test_split\n",
    "\n",
    "X_train,X_test,y_train,y_test = train_test_split(X,Y,test_size=0.2,random_state=1)\n",
    "\n"
   ]
  },
  {
   "cell_type": "code",
   "execution_count": 29,
   "metadata": {},
   "outputs": [
    {
     "name": "stdout",
     "output_type": "stream",
     "text": [
      "<class 'pandas.core.frame.DataFrame'>\n",
      "Int64Index: 1832 entries, 2280 to 1061\n",
      "Data columns (total 4 columns):\n",
      "SPX        1832 non-null float64\n",
      "USO        1832 non-null float64\n",
      "SLV        1832 non-null float64\n",
      "EUR/USD    1832 non-null float64\n",
      "dtypes: float64(4)\n",
      "memory usage: 71.6 KB\n"
     ]
    }
   ],
   "source": [
    "X_train.info()"
   ]
  },
  {
   "cell_type": "code",
   "execution_count": 30,
   "metadata": {},
   "outputs": [
    {
     "name": "stdout",
     "output_type": "stream",
     "text": [
      "<class 'pandas.core.frame.DataFrame'>\n",
      "Int64Index: 458 entries, 1971 to 1814\n",
      "Data columns (total 4 columns):\n",
      "SPX        458 non-null float64\n",
      "USO        458 non-null float64\n",
      "SLV        458 non-null float64\n",
      "EUR/USD    458 non-null float64\n",
      "dtypes: float64(4)\n",
      "memory usage: 17.9 KB\n"
     ]
    }
   ],
   "source": [
    "X_test.info()"
   ]
  },
  {
   "cell_type": "code",
   "execution_count": 32,
   "metadata": {},
   "outputs": [
    {
     "data": {
      "text/plain": [
       "RandomForestRegressor(bootstrap=True, ccp_alpha=0.0, criterion='mse',\n",
       "                      max_depth=None, max_features='auto', max_leaf_nodes=None,\n",
       "                      max_samples=None, min_impurity_decrease=0.0,\n",
       "                      min_impurity_split=None, min_samples_leaf=1,\n",
       "                      min_samples_split=2, min_weight_fraction_leaf=0.0,\n",
       "                      n_estimators=100, n_jobs=None, oob_score=False,\n",
       "                      random_state=0, verbose=0, warm_start=False)"
      ]
     },
     "execution_count": 32,
     "metadata": {},
     "output_type": "execute_result"
    }
   ],
   "source": [
    "from sklearn.ensemble import RandomForestRegressor\n",
    "regressor = RandomForestRegressor(n_estimators = 100, random_state = 0)\n",
    "regressor.fit(X_train, y_train)"
   ]
  },
  {
   "cell_type": "code",
   "execution_count": 38,
   "metadata": {},
   "outputs": [],
   "source": [
    "y_pred = regressor.predict(X_test)"
   ]
  },
  {
   "cell_type": "code",
   "execution_count": 39,
   "metadata": {},
   "outputs": [
    {
     "data": {
      "text/plain": [
       "array([114.0577001 , 147.48350164, 140.03279764, 112.64160181,\n",
       "       113.79039985,  95.70489933, 111.70289955,  93.25969962,\n",
       "       120.94980057, 127.07539968, 147.9640995 , 120.50219902,\n",
       "       119.30730067,  88.05940052,  96.11309972,  92.77629823,\n",
       "       117.00680085,  88.997799  , 125.268001  , 114.73360022,\n",
       "       118.92279932, 152.61070254, 122.5308978 , 119.77279988,\n",
       "       171.07489971, 108.2836988 , 120.60890054,  87.12949872,\n",
       "        88.272701  ,  88.33249908, 121.5450003 , 154.64150181,\n",
       "       150.23559903, 125.93330001, 126.56190018,  91.18799826,\n",
       "       159.90060018, 121.31340197, 106.57830058, 144.37809698,\n",
       "        92.45389918, 127.7112007 , 117.42950068, 152.91240146,\n",
       "       119.4728997 ,  91.33400145,  80.12370002, 120.17110185,\n",
       "       132.52410035, 119.0665995 , 127.27100092, 165.91169964,\n",
       "       152.97970069,  92.61239974, 149.31099983, 151.89649996,\n",
       "       112.98630041, 112.89200028,  87.18809917, 127.71179923,\n",
       "       125.31250092, 151.72500302, 114.77190015, 110.62130018,\n",
       "       161.43359765, 117.03229853, 108.51930084, 131.76149994,\n",
       "       133.22590187, 125.58220026, 117.0058    , 150.09330196,\n",
       "       156.13720091, 168.31149649, 109.91660004, 141.02129841,\n",
       "       102.00019824, 114.91070044, 119.67880077, 123.57629963,\n",
       "       117.93050068,  92.12610008, 141.06070101, 107.06730004,\n",
       "       125.35629985,  92.39659909, 133.18280413, 124.61470043,\n",
       "       125.62769994, 125.96509869, 113.47140006, 120.48249933,\n",
       "       161.00130178,  80.49899992, 117.84740075, 115.19140053,\n",
       "       135.23390091, 109.62460035, 108.85149987, 126.18060101,\n",
       "       127.4980002 , 110.2054984 , 160.3383996 , 122.97150008,\n",
       "       120.94960044, 128.46779792, 147.5853974 ,  92.43169826,\n",
       "       124.8621996 , 118.97169951, 108.79239897, 135.27050006,\n",
       "       120.96720065,  97.81559733, 115.59300032, 110.04699802,\n",
       "       126.23950051, 113.9094009 , 106.97610078, 173.99659988,\n",
       "        96.81160282, 126.65559835, 112.29679833, 112.65679974,\n",
       "       124.7778996 , 168.12849858, 114.67650043, 135.12839718,\n",
       "       125.6601001 , 163.54789977, 120.21959964,  89.01749911,\n",
       "       127.75319946, 127.82110064, 115.29189972, 122.72629888,\n",
       "       126.05950044, 167.09609728, 112.15870107, 119.91790015,\n",
       "       126.23000132, 126.96190049, 168.00069847, 160.20630006,\n",
       "       170.35860216, 121.56270086, 121.75670041, 164.14370008,\n",
       "        98.63399923,  79.86169958, 115.96090105, 113.29860099,\n",
       "       118.65960062, 113.40930064, 120.46160032, 119.90120078,\n",
       "       104.58569949, 170.38730202, 144.15159644, 166.57079728,\n",
       "       118.01020179, 125.6953013 , 126.09519997, 166.14969927,\n",
       "       117.38370063, 133.01670288, 135.70120034, 132.18460175,\n",
       "       113.41160086, 133.28210096, 154.07850151, 136.4304978 ,\n",
       "        96.61010044, 108.72770126, 124.65890045, 149.90560023,\n",
       "        98.67780016, 131.24070224, 104.43429991, 121.22509828,\n",
       "       144.23350058, 109.07720169, 127.27829998, 127.25149883,\n",
       "       113.18410044, 139.35230292, 151.96810046, 165.06169913,\n",
       "       119.75590018, 104.7647017 , 115.53199998, 114.06080094,\n",
       "       106.92659954, 124.04480068, 154.07610261, 128.91780098,\n",
       "       125.99970021, 149.13099694, 142.30729976,  84.61389902,\n",
       "       124.99770003, 125.98909998, 124.58980147, 106.18590047,\n",
       "       169.60300231, 175.81699761,  77.68630032, 119.25880064,\n",
       "        93.19370072, 118.45899962, 125.52840126, 117.89930002,\n",
       "       123.88190038, 153.22799985, 150.75190179,  91.63370088,\n",
       "       131.39839789, 108.77939824, 110.25459888, 109.15320006,\n",
       "       168.35439597, 128.89849745, 103.16119897, 124.19469911,\n",
       "       111.67009951,  89.81139897, 146.5521983 , 121.44540015,\n",
       "       119.73170058, 104.48119907, 125.15240038,  94.27560079,\n",
       "       121.80090135, 116.33559976, 135.04339926, 124.46937721,\n",
       "       169.77780219,  83.05739879, 168.12439854, 124.65279981,\n",
       "       109.93889968, 126.00880008, 122.92099876,  83.63099872,\n",
       "       124.22139865, 113.58700112,  90.89419844, 113.01300049,\n",
       "       112.16850115, 169.82250094, 107.18829951,  91.53799954,\n",
       "       118.97839997, 109.4940985 ,  90.21340052,  75.48860071,\n",
       "       161.20640121, 114.62630101, 141.30830209,  96.70710035,\n",
       "       121.07359995, 151.32240052, 160.31360096, 113.71380091,\n",
       "       116.29050078, 158.16310208, 117.99639844, 151.07270074,\n",
       "       175.8361972 ,  87.6010004 , 112.46399944, 152.91239977,\n",
       "       108.28089914, 159.09770283, 114.82200046, 139.26029828,\n",
       "       121.98179969, 115.68689781, 114.22100102,  85.92429938,\n",
       "        75.59999818, 132.30349944, 120.75700027, 119.0079008 ,\n",
       "       111.41200057, 153.73290002, 150.46919947, 123.13079958,\n",
       "       138.18290153, 152.99870191, 106.62499998,  92.05769949,\n",
       "       122.14370027, 154.85590102, 161.50489877, 156.45590264,\n",
       "        90.15389915, 134.21850418, 152.21910149, 108.68669886,\n",
       "       152.92610076,  85.36659999, 116.64050125, 119.75850016,\n",
       "       127.80440235, 151.68230223, 117.36420004, 127.75270052,\n",
       "       114.73770136, 103.68839905, 114.37530019,  95.40090081,\n",
       "       168.03589853, 149.71170057,  86.93199835, 128.09380089,\n",
       "       111.43849857, 164.58090208, 121.0770994 , 107.37719955,\n",
       "       103.23200004, 115.31429984, 112.18300057,  75.9318004 ,\n",
       "        91.40249847, 122.31679947,  87.22159846, 112.22430027,\n",
       "       171.87600092, 165.40840162,  90.87609899, 139.01979909,\n",
       "        89.77760145, 118.61740056, 109.12500114, 125.28249875,\n",
       "       118.206101  , 123.77740012, 107.15890136, 130.48499906,\n",
       "       114.94949995, 160.38989972, 108.11109927, 116.39379963,\n",
       "       153.45960049, 147.48210071,  94.17509967,  91.20089852,\n",
       "       124.82670013,  88.01699903, 114.36880132, 114.76350087,\n",
       "       167.24909776, 121.14640072, 106.73419879, 160.50799953,\n",
       "        77.11240016, 124.46969892,  75.81690051, 124.35510009,\n",
       "       158.68960141, 131.09300258, 161.18350093, 120.35430005,\n",
       "       106.44909978, 155.34550346, 125.8755999 , 157.29230078,\n",
       "       140.1454985 , 131.56119934, 132.82920326, 113.75360102,\n",
       "       114.02239916, 126.67059935, 129.2740988 , 163.79530145,\n",
       "        89.79910114, 168.96889953, 111.69589904, 118.94210089,\n",
       "       135.79550092, 121.70350272, 163.55130156, 120.39380154,\n",
       "       114.36500063, 141.3205002 , 131.71730201, 114.44790052,\n",
       "       120.01590055, 125.50309905, 124.94249908, 107.0047007 ,\n",
       "       104.14599919,  71.96820142, 158.68860087, 150.46810017,\n",
       "        86.06610022, 159.48540122, 153.61390335, 121.72840093,\n",
       "       114.15280125, 121.21470064, 162.43099846, 131.27230207,\n",
       "       118.19459974, 159.38830023, 163.24790254, 124.28919926,\n",
       "       127.18419926, 125.77000015, 120.33149973, 151.67200097,\n",
       "        87.14489932, 102.96379939, 132.29280166, 163.2706015 ,\n",
       "       131.14670169,  89.14059977, 161.20170146, 116.25939984,\n",
       "        97.29979796, 127.29649979, 139.39589926, 122.40439986,\n",
       "       119.35709939, 111.33500051,  77.04589952, 121.55720132,\n",
       "       102.53479852, 160.9793982 , 117.5469005 , 126.15340076,\n",
       "       125.69889986,  93.88549997, 132.63679782, 156.64269997,\n",
       "       103.00289973,  93.39850008, 126.91530082,  93.10330146,\n",
       "       113.4732003 , 126.12679903, 122.48889893, 108.31419852,\n",
       "       119.13170082, 147.85489884, 148.68110187, 134.16050153,\n",
       "       168.40550098, 101.11849931, 117.86740048, 127.48580108,\n",
       "       114.95750181, 115.49139955, 101.0944983 , 129.55079854,\n",
       "       164.78059798, 119.12920299])"
      ]
     },
     "execution_count": 39,
     "metadata": {},
     "output_type": "execute_result"
    }
   ],
   "source": [
    "y_pred"
   ]
  },
  {
   "cell_type": "code",
   "execution_count": 36,
   "metadata": {},
   "outputs": [
    {
     "data": {
      "text/plain": [
       "2280    124.589996\n",
       "1730    103.849998\n",
       "418     110.820000\n",
       "979     157.119995\n",
       "223      88.529999\n",
       "           ...    \n",
       "960     154.470001\n",
       "905     167.509995\n",
       "1096    163.169998\n",
       "235      90.209999\n",
       "1061    167.990005\n",
       "Name: GLD, Length: 1832, dtype: float64"
      ]
     },
     "execution_count": 36,
     "metadata": {},
     "output_type": "execute_result"
    }
   ],
   "source": [
    "y_train"
   ]
  },
  {
   "cell_type": "code",
   "execution_count": 40,
   "metadata": {},
   "outputs": [
    {
     "name": "stdout",
     "output_type": "stream",
     "text": [
      "MAE :   1.2737687034716174\n",
      "MSE :   6.975310905831537\n",
      "RMAE :   2.6410813894750644\n"
     ]
    }
   ],
   "source": [
    "from sklearn import metrics\n",
    "print('MAE :',\" \", metrics.mean_absolute_error(y_test,y_pred))\n",
    "print('MSE :',\" \", metrics.mean_squared_error(y_test,y_pred))\n",
    "print('RMAE :',\" \", np.sqrt(metrics.mean_squared_error(y_test,y_pred)))"
   ]
  },
  {
   "cell_type": "code",
   "execution_count": 42,
   "metadata": {},
   "outputs": [
    {
     "name": "stdout",
     "output_type": "stream",
     "text": [
      "0.9986626533167614\n",
      "0.9867829349849842\n"
     ]
    }
   ],
   "source": [
    "accuracy_train = regressor.score(X_train, y_train)\n",
    "accuracy_test = regressor.score(X_test, y_test)\n",
    "print(accuracy_train)\n",
    "print(accuracy_test)"
   ]
  },
  {
   "cell_type": "code",
   "execution_count": 46,
   "metadata": {},
   "outputs": [
    {
     "data": {
      "text/plain": [
       "numpy.ndarray"
      ]
     },
     "execution_count": 46,
     "metadata": {},
     "output_type": "execute_result"
    }
   ],
   "source": [
    "type(y_pred)"
   ]
  },
  {
   "cell_type": "code",
   "execution_count": 52,
   "metadata": {},
   "outputs": [
    {
     "data": {
      "text/plain": [
       "1.0"
      ]
     },
     "execution_count": 52,
     "metadata": {},
     "output_type": "execute_result"
    }
   ],
   "source": [
    "regressor.score(X_test, y_pred)"
   ]
  },
  {
   "cell_type": "code",
   "execution_count": 53,
   "metadata": {},
   "outputs": [
    {
     "data": {
      "text/plain": [
       "0      114.057700\n",
       "1      147.483502\n",
       "2      140.032798\n",
       "3      112.641602\n",
       "4      113.790400\n",
       "          ...    \n",
       "453    115.491400\n",
       "454    101.094498\n",
       "455    129.550799\n",
       "456    164.780598\n",
       "457    119.129203\n",
       "Length: 458, dtype: float64"
      ]
     },
     "execution_count": 53,
     "metadata": {},
     "output_type": "execute_result"
    }
   ],
   "source": [
    "pd.Series(y_pred)"
   ]
  },
  {
   "cell_type": "code",
   "execution_count": 55,
   "metadata": {},
   "outputs": [
    {
     "data": {
      "text/plain": [
       "1971    110.820000\n",
       "1163    151.050003\n",
       "693     137.660004\n",
       "1651    113.070000\n",
       "508     114.629997\n",
       "           ...    \n",
       "1524    115.779999\n",
       "363      98.900002\n",
       "1272    130.559998\n",
       "1053    164.860001\n",
       "1814    120.589996\n",
       "Name: GLD, Length: 458, dtype: float64"
      ]
     },
     "execution_count": 55,
     "metadata": {},
     "output_type": "execute_result"
    }
   ],
   "source": [
    "y_test"
   ]
  },
  {
   "cell_type": "code",
   "execution_count": null,
   "metadata": {},
   "outputs": [],
   "source": []
  }
 ],
 "metadata": {
  "kernelspec": {
   "display_name": "Python 3",
   "language": "python",
   "name": "python3"
  },
  "language_info": {
   "codemirror_mode": {
    "name": "ipython",
    "version": 3
   },
   "file_extension": ".py",
   "mimetype": "text/x-python",
   "name": "python",
   "nbconvert_exporter": "python",
   "pygments_lexer": "ipython3",
   "version": "3.6.6"
  }
 },
 "nbformat": 4,
 "nbformat_minor": 2
}
